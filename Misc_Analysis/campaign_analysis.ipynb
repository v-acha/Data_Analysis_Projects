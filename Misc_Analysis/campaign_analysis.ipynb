{
 "cells": [
  {
   "cell_type": "markdown",
   "metadata": {},
   "source": [
    "## Objectives\n",
    "\n",
    "- Explore and glean insights from a real dataset using pandas\n",
    "- Practice using pandas for exploratory analysis, information gathering, and discovery\n",
    "- Practice cleaning data and answering questions"
   ]
  },
  {
   "cell_type": "markdown",
   "metadata": {},
   "source": [
    "## Dataset\n",
    "\n",
    "You are to analyze campaign contributions to the 2016 U.S. presidential primary races made in California. Use the csv file located here: https://drive.google.com/file/d/1Lgg-PwXQ6TQLDowd6XyBxZw5g1NGWPjB/view?usp=sharing. You should download and save this file in the same folder as this notebook is stored.  This file originally came from the U.S. Federal Election Commission (https://www.fec.gov/).\n",
    "\n",
    "**DO NOT PUSH THIS FILE TO YOUR GITHUB REPO!**\n",
    "\n",
    "- Best practice is to not have DATA files in your code repo. As shown below, the default load is outside of the folder this notebook is in. If you change the folder where the file is stored please update the first cell!\n",
    "- If you do accidentally push the file to your github repo - follow the directions here to fix it: https://docs.google.com/document/d/15Irgb5V5G7pKPWgAerH7FPMpKeQRunbNflaW-hR2hTA/edit?usp=sharing\n",
    "\n",
    "Documentation for this data can be found here: https://drive.google.com/file/d/11o_SByceenv0NgNMstM-dxC1jL7I9fHL/view?usp=sharing"
   ]
  },
  {
   "cell_type": "markdown",
   "metadata": {},
   "source": [
    "## Data Questions\n",
    "\n",
    "You are working for a California state-wide election campaign. Your boss wants you to examine historic 2016 election contribution data to see what zipcodes are more supportive of fundraising for your candidate. \n",
    "\n",
    "Your boss asks you to filter out some of the records:\n",
    "- Only use primary 2016 contribution data (more like how your race is).\n",
    "- Concentrate on Bernie Sanders as a candidate (most a like your candidate)\n",
    "\n",
    "The questions your boss wants answered is:\n",
    "- Which zipcode (5-digit zipcode) had the highest count of contributions and the most dollar amount?\n",
    "- What day(s) of the month do most people donate?"
   ]
  },
  {
   "cell_type": "markdown",
   "metadata": {},
   "source": [
    "## Setup\n",
    "\n",
    "Run the cell below as it will load the data into a pandas dataframe named `contrib`. Note that a custom date parser is defined to speed up loading. If Python were to guess the date format, it would take even longer to load."
   ]
  },
  {
   "cell_type": "code",
   "execution_count": 1,
   "metadata": {},
   "outputs": [
    {
     "name": "stderr",
     "output_type": "stream",
     "text": [
      "/tmp/ipykernel_134334/3373767128.py:14: DtypeWarning: Columns (6,11,12) have mixed types. Specify dtype option on import or set low_memory=False.\n",
      "  contrib = pd.read_csv('/home/vanel/github/P00000001-CA.csv', index_col=False, parse_dates=['contb_receipt_dt'], date_parser=d)\n"
     ]
    }
   ],
   "source": [
    "import pandas as pd\n",
    "import numpy as np\n",
    "from datetime import datetime\n",
    "\n",
    "# These commands below set some options for pandas and to have matplotlib show the charts in the notebook\n",
    "pd.set_option('display.max_rows', 1000)\n",
    "pd.options.display.float_format = '{:,.2f}'.format\n",
    "\n",
    "# Define a date parser to pass to read_csv\n",
    "d = lambda x: datetime.strptime(x, '%d-%b-%y')\n",
    "\n",
    "# Load the data\n",
    "# We have this defaulted to the folder OUTSIDE of your repo - please change it as needed\n",
    "contrib = pd.read_csv('/home/vanel/github/P00000001-CA.csv', index_col=False, parse_dates=['contb_receipt_dt'], date_parser=d)\n",
    "\n",
    "# Note - for now, it is okay to ignore the warning about mixed types. "
   ]
  },
  {
   "cell_type": "markdown",
   "metadata": {},
   "source": [
    "***\n",
    "## 1. Initial Data Checks (50 points)\n",
    "\n",
    "First we will take a preliminary look at the data to check that it was loaded correctly and contains the info we need.\n",
    "\n",
    "The questions to answer at the end of this section:\n",
    "- Do we have the correct # of columns and rows. \n",
    "- Do the records contain data for the questions we want to answer \n",
    "- What columns are important? \n",
    "- What columns can be dropped?\n",
    "- What are the data problems?"
   ]
  },
  {
   "cell_type": "markdown",
   "metadata": {},
   "source": [
    "**1a.** Print the *shape* of the data. Does this match the expectation? (2 points)"
   ]
  },
  {
   "cell_type": "code",
   "execution_count": 2,
   "metadata": {
    "deletable": false,
    "nbgrader": {
     "checksum": "9f7a7938e43b14d3c7c49d6a278b0bb1",
     "grade": true,
     "grade_id": "cell-5d017805206f18b1",
     "locked": false,
     "points": 0,
     "schema_version": 1,
     "solution": true
    }
   },
   "outputs": [
    {
     "data": {
      "text/plain": [
       "(1125659, 18)"
      ]
     },
     "execution_count": 2,
     "metadata": {},
     "output_type": "execute_result"
    }
   ],
   "source": [
    "# 1a YOUR CODE HERE\n",
    "contrib.shape"
   ]
  },
  {
   "cell_type": "markdown",
   "metadata": {},
   "source": [
    "- **1a answer here:** \n",
    "\n",
    "Yes, the file contains 18 columns and 1,125,659 rows."
   ]
  },
  {
   "cell_type": "markdown",
   "metadata": {
    "deletable": false,
    "nbgrader": {
     "checksum": "e6a198453ec4b0171a064fef0bd7c678",
     "grade": true,
     "grade_id": "cell-3bc26919169bf4aa",
     "locked": false,
     "points": 5,
     "schema_version": 1,
     "solution": true
    }
   },
   "source": [
    "**1b.** Print a list of column names. Are all the columns included that are in the documentation? (2 points)"
   ]
  },
  {
   "cell_type": "code",
   "execution_count": 3,
   "metadata": {
    "deletable": false,
    "nbgrader": {
     "checksum": "4fbf682f1c78b3614832c6f48ecd88c7",
     "grade": true,
     "grade_id": "cell-72bc97601b84f17d",
     "locked": false,
     "points": 5,
     "schema_version": 1,
     "solution": true
    }
   },
   "outputs": [
    {
     "data": {
      "text/plain": [
       "Index(['cmte_id', 'cand_id', 'cand_nm', 'contbr_nm', 'contbr_city',\n",
       "       'contbr_st', 'contbr_zip', 'contbr_employer', 'contbr_occupation',\n",
       "       'contb_receipt_amt', 'contb_receipt_dt', 'receipt_desc', 'memo_cd',\n",
       "       'memo_text', 'form_tp', 'file_num', 'tran_id', 'election_tp'],\n",
       "      dtype='object')"
      ]
     },
     "execution_count": 3,
     "metadata": {},
     "output_type": "execute_result"
    }
   ],
   "source": [
    "# 1b YOUR CODE HERE\n",
    "contrib.columns"
   ]
  },
  {
   "cell_type": "markdown",
   "metadata": {},
   "source": [
    "- **1b answer here:** \n",
    "\n",
    "Yes, all the columns in the documentation are included."
   ]
  },
  {
   "cell_type": "markdown",
   "metadata": {},
   "source": [
    "**1c** Print out the first five rows of the dataset. How do the columns `cand_id`, `cand_nm` and `contbr_st` look? (3 points)"
   ]
  },
  {
   "cell_type": "code",
   "execution_count": 4,
   "metadata": {},
   "outputs": [
    {
     "data": {
      "text/html": [
       "<div>\n",
       "<style scoped>\n",
       "    .dataframe tbody tr th:only-of-type {\n",
       "        vertical-align: middle;\n",
       "    }\n",
       "\n",
       "    .dataframe tbody tr th {\n",
       "        vertical-align: top;\n",
       "    }\n",
       "\n",
       "    .dataframe thead th {\n",
       "        text-align: right;\n",
       "    }\n",
       "</style>\n",
       "<table border=\"1\" class=\"dataframe\">\n",
       "  <thead>\n",
       "    <tr style=\"text-align: right;\">\n",
       "      <th></th>\n",
       "      <th>cmte_id</th>\n",
       "      <th>cand_id</th>\n",
       "      <th>cand_nm</th>\n",
       "      <th>contbr_nm</th>\n",
       "      <th>contbr_city</th>\n",
       "      <th>contbr_st</th>\n",
       "      <th>contbr_zip</th>\n",
       "      <th>contbr_employer</th>\n",
       "      <th>contbr_occupation</th>\n",
       "      <th>contb_receipt_amt</th>\n",
       "      <th>contb_receipt_dt</th>\n",
       "      <th>receipt_desc</th>\n",
       "      <th>memo_cd</th>\n",
       "      <th>memo_text</th>\n",
       "      <th>form_tp</th>\n",
       "      <th>file_num</th>\n",
       "      <th>tran_id</th>\n",
       "      <th>election_tp</th>\n",
       "    </tr>\n",
       "  </thead>\n",
       "  <tbody>\n",
       "    <tr>\n",
       "      <th>0</th>\n",
       "      <td>C00575795</td>\n",
       "      <td>P00003392</td>\n",
       "      <td>Clinton, Hillary Rodham</td>\n",
       "      <td>AULL, ANNE</td>\n",
       "      <td>LARKSPUR</td>\n",
       "      <td>CA</td>\n",
       "      <td>949,391,913.00</td>\n",
       "      <td>NaN</td>\n",
       "      <td>RETIRED</td>\n",
       "      <td>50.00</td>\n",
       "      <td>2016-04-26</td>\n",
       "      <td>NaN</td>\n",
       "      <td>X</td>\n",
       "      <td>* HILLARY VICTORY FUND</td>\n",
       "      <td>SA18</td>\n",
       "      <td>1091718</td>\n",
       "      <td>C4768722</td>\n",
       "      <td>P2016</td>\n",
       "    </tr>\n",
       "    <tr>\n",
       "      <th>1</th>\n",
       "      <td>C00575795</td>\n",
       "      <td>P00003392</td>\n",
       "      <td>Clinton, Hillary Rodham</td>\n",
       "      <td>CARROLL, MARYJEAN</td>\n",
       "      <td>CAMBRIA</td>\n",
       "      <td>CA</td>\n",
       "      <td>934,284,638.00</td>\n",
       "      <td>NaN</td>\n",
       "      <td>RETIRED</td>\n",
       "      <td>200.00</td>\n",
       "      <td>2016-04-20</td>\n",
       "      <td>NaN</td>\n",
       "      <td>X</td>\n",
       "      <td>* HILLARY VICTORY FUND</td>\n",
       "      <td>SA18</td>\n",
       "      <td>1091718</td>\n",
       "      <td>C4747242</td>\n",
       "      <td>P2016</td>\n",
       "    </tr>\n",
       "    <tr>\n",
       "      <th>2</th>\n",
       "      <td>C00575795</td>\n",
       "      <td>P00003392</td>\n",
       "      <td>Clinton, Hillary Rodham</td>\n",
       "      <td>GANDARA, DESIREE</td>\n",
       "      <td>FONTANA</td>\n",
       "      <td>CA</td>\n",
       "      <td>923,371,507.00</td>\n",
       "      <td>NaN</td>\n",
       "      <td>RETIRED</td>\n",
       "      <td>5.00</td>\n",
       "      <td>2016-04-02</td>\n",
       "      <td>NaN</td>\n",
       "      <td>X</td>\n",
       "      <td>* HILLARY VICTORY FUND</td>\n",
       "      <td>SA18</td>\n",
       "      <td>1091718</td>\n",
       "      <td>C4666603</td>\n",
       "      <td>P2016</td>\n",
       "    </tr>\n",
       "    <tr>\n",
       "      <th>3</th>\n",
       "      <td>C00577130</td>\n",
       "      <td>P60007168</td>\n",
       "      <td>Sanders, Bernard</td>\n",
       "      <td>LEE, ALAN</td>\n",
       "      <td>CAMARILLO</td>\n",
       "      <td>CA</td>\n",
       "      <td>930,111,214.00</td>\n",
       "      <td>AT&amp;T GOVERNMENT SOLUTIONS</td>\n",
       "      <td>SOFTWARE ENGINEER</td>\n",
       "      <td>40.00</td>\n",
       "      <td>2016-03-04</td>\n",
       "      <td>NaN</td>\n",
       "      <td>NaN</td>\n",
       "      <td>* EARMARKED CONTRIBUTION: SEE BELOW</td>\n",
       "      <td>SA17A</td>\n",
       "      <td>1077404</td>\n",
       "      <td>VPF7BKWA097</td>\n",
       "      <td>P2016</td>\n",
       "    </tr>\n",
       "    <tr>\n",
       "      <th>4</th>\n",
       "      <td>C00577130</td>\n",
       "      <td>P60007168</td>\n",
       "      <td>Sanders, Bernard</td>\n",
       "      <td>LEONELLI, ODETTE</td>\n",
       "      <td>REDONDO BEACH</td>\n",
       "      <td>CA</td>\n",
       "      <td>902,784,310.00</td>\n",
       "      <td>VERICOR ENTERPRISES INC.</td>\n",
       "      <td>PHARMACIST</td>\n",
       "      <td>35.00</td>\n",
       "      <td>2016-03-05</td>\n",
       "      <td>NaN</td>\n",
       "      <td>NaN</td>\n",
       "      <td>* EARMARKED CONTRIBUTION: SEE BELOW</td>\n",
       "      <td>SA17A</td>\n",
       "      <td>1077404</td>\n",
       "      <td>VPF7BKX3MB3</td>\n",
       "      <td>P2016</td>\n",
       "    </tr>\n",
       "  </tbody>\n",
       "</table>\n",
       "</div>"
      ],
      "text/plain": [
       "     cmte_id    cand_id                  cand_nm          contbr_nm  \\\n",
       "0  C00575795  P00003392  Clinton, Hillary Rodham         AULL, ANNE   \n",
       "1  C00575795  P00003392  Clinton, Hillary Rodham  CARROLL, MARYJEAN   \n",
       "2  C00575795  P00003392  Clinton, Hillary Rodham   GANDARA, DESIREE   \n",
       "3  C00577130  P60007168         Sanders, Bernard          LEE, ALAN   \n",
       "4  C00577130  P60007168         Sanders, Bernard   LEONELLI, ODETTE   \n",
       "\n",
       "     contbr_city contbr_st     contbr_zip            contbr_employer  \\\n",
       "0       LARKSPUR        CA 949,391,913.00                        NaN   \n",
       "1        CAMBRIA        CA 934,284,638.00                        NaN   \n",
       "2        FONTANA        CA 923,371,507.00                        NaN   \n",
       "3      CAMARILLO        CA 930,111,214.00  AT&T GOVERNMENT SOLUTIONS   \n",
       "4  REDONDO BEACH        CA 902,784,310.00   VERICOR ENTERPRISES INC.   \n",
       "\n",
       "   contbr_occupation  contb_receipt_amt contb_receipt_dt receipt_desc memo_cd  \\\n",
       "0            RETIRED              50.00       2016-04-26          NaN       X   \n",
       "1            RETIRED             200.00       2016-04-20          NaN       X   \n",
       "2            RETIRED               5.00       2016-04-02          NaN       X   \n",
       "3  SOFTWARE ENGINEER              40.00       2016-03-04          NaN     NaN   \n",
       "4         PHARMACIST              35.00       2016-03-05          NaN     NaN   \n",
       "\n",
       "                             memo_text form_tp  file_num      tran_id  \\\n",
       "0               * HILLARY VICTORY FUND    SA18   1091718     C4768722   \n",
       "1               * HILLARY VICTORY FUND    SA18   1091718     C4747242   \n",
       "2               * HILLARY VICTORY FUND    SA18   1091718     C4666603   \n",
       "3  * EARMARKED CONTRIBUTION: SEE BELOW   SA17A   1077404  VPF7BKWA097   \n",
       "4  * EARMARKED CONTRIBUTION: SEE BELOW   SA17A   1077404  VPF7BKX3MB3   \n",
       "\n",
       "  election_tp  \n",
       "0       P2016  \n",
       "1       P2016  \n",
       "2       P2016  \n",
       "3       P2016  \n",
       "4       P2016  "
      ]
     },
     "execution_count": 4,
     "metadata": {},
     "output_type": "execute_result"
    }
   ],
   "source": [
    "# 1c YOUR CODE HERE\n",
    "contrib.head()"
   ]
  },
  {
   "cell_type": "markdown",
   "metadata": {},
   "source": [
    "- **1c answer here:** \n",
    "\n",
    "`cand_id`: consists of a unique identification nummber that follows P. With P00003392 being for Clinton and P60007168 being for Sanders.\n",
    "\n",
    "`cand_nm`: includes Hilary Clinton and Bernie Sanders.\n",
    "\n",
    "`contbr_st`: The first 5 rows show contribution state as California."
   ]
  },
  {
   "cell_type": "markdown",
   "metadata": {
    "deletable": false,
    "nbgrader": {
     "checksum": "0ec29a2cabd52709322d1cfd650babe7",
     "grade": true,
     "grade_id": "cell-23b51536d24c1645",
     "locked": false,
     "points": 0,
     "schema_version": 1,
     "solution": true
    }
   },
   "source": [
    "**1d.** Print out the values for the column `election_tp`. In your own words, based on the documentation, what information does the `election_tp` variable contain? Do the values in the column match the documentation? (3 points)"
   ]
  },
  {
   "cell_type": "code",
   "execution_count": 5,
   "metadata": {},
   "outputs": [
    {
     "data": {
      "text/plain": [
       "array(['P2016', 'G2016', nan, 'P2020'], dtype=object)"
      ]
     },
     "execution_count": 5,
     "metadata": {},
     "output_type": "execute_result"
    }
   ],
   "source": [
    "# 1d YOUR CODE HERE\n",
    "contrib['election_tp'].unique()"
   ]
  },
  {
   "cell_type": "markdown",
   "metadata": {
    "deletable": false,
    "nbgrader": {
     "checksum": "cfa64002e64474584dc1442b5a39b460",
     "grade": true,
     "grade_id": "cell-8a320c2ff7c24d98",
     "locked": false,
     "points": 0,
     "schema_version": 1,
     "solution": true
    }
   },
   "source": [
    "- **1d answer here:** \n",
    "\n",
    "`election_tp`: the variable contains values with the first letter P or G indicating Primary or General elections followed by the year. So P2016 would be contributions made for the 2016 Primary elections. It also seem to contain some null values but other than that, the values match the documentation."
   ]
  },
  {
   "cell_type": "markdown",
   "metadata": {
    "deletable": false,
    "nbgrader": {
     "checksum": "442b24601da06376c43cbe6ef5c5348a",
     "grade": true,
     "grade_id": "cell-6a453219105384dd",
     "locked": false,
     "points": 0,
     "schema_version": 1,
     "solution": true
    }
   },
   "source": [
    "**1e.** Print out the datatypes for all of the columns. What are the datatypes for the `contbr_zip`, `contb_receipt_amt`, `contb_receipt_dt`? (5 points)"
   ]
  },
  {
   "cell_type": "code",
   "execution_count": 6,
   "metadata": {
    "deletable": false,
    "nbgrader": {
     "checksum": "c5a1b7f30648cced7269ccb9b1532bd6",
     "grade": true,
     "grade_id": "cell-90c49bd6471a3dc9",
     "locked": false,
     "points": 0,
     "schema_version": 1,
     "solution": true
    }
   },
   "outputs": [
    {
     "name": "stdout",
     "output_type": "stream",
     "text": [
      "<class 'pandas.core.frame.DataFrame'>\n",
      "RangeIndex: 1125659 entries, 0 to 1125658\n",
      "Data columns (total 18 columns):\n",
      " #   Column             Non-Null Count    Dtype         \n",
      "---  ------             --------------    -----         \n",
      " 0   cmte_id            1125659 non-null  object        \n",
      " 1   cand_id            1125659 non-null  object        \n",
      " 2   cand_nm            1125659 non-null  object        \n",
      " 3   contbr_nm          1125659 non-null  object        \n",
      " 4   contbr_city        1125633 non-null  object        \n",
      " 5   contbr_st          1125659 non-null  object        \n",
      " 6   contbr_zip         1125564 non-null  object        \n",
      " 7   contbr_employer    967757 non-null   object        \n",
      " 8   contbr_occupation  1115260 non-null  object        \n",
      " 9   contb_receipt_amt  1125659 non-null  float64       \n",
      " 10  contb_receipt_dt   1125659 non-null  datetime64[ns]\n",
      " 11  receipt_desc       15045 non-null    object        \n",
      " 12  memo_cd            144268 non-null   object        \n",
      " 13  memo_text          501148 non-null   object        \n",
      " 14  form_tp            1125659 non-null  object        \n",
      " 15  file_num           1125659 non-null  int64         \n",
      " 16  tran_id            1125659 non-null  object        \n",
      " 17  election_tp        1124234 non-null  object        \n",
      "dtypes: datetime64[ns](1), float64(1), int64(1), object(15)\n",
      "memory usage: 154.6+ MB\n"
     ]
    }
   ],
   "source": [
    "# 1e YOUR CODE HERE\n",
    "contrib.info()"
   ]
  },
  {
   "cell_type": "markdown",
   "metadata": {
    "deletable": false,
    "nbgrader": {
     "checksum": "60d3e303837e9603de5b96e32af7d806",
     "grade": true,
     "grade_id": "cell-447dc63eff8ebc5f",
     "locked": false,
     "points": 0,
     "schema_version": 1,
     "solution": true
    }
   },
   "source": [
    "- **1e answer here:** \n",
    "\n",
    "`contbr_zip`: object/string\n",
    "\n",
    "`contb_receipt_amt`: float64\n",
    "\n",
    "`contb_receipt_dt`: datetime64[ns]"
   ]
  },
  {
   "cell_type": "markdown",
   "metadata": {
    "collapsed": true,
    "deletable": false,
    "nbgrader": {
     "checksum": "20a71229316bf24a2ce62c52f72d8142",
     "grade": true,
     "grade_id": "cell-963603c5ed346a99",
     "locked": false,
     "points": 0,
     "schema_version": 1,
     "solution": true
    }
   },
   "source": [
    "**1f.** What columns have the most non-nulls?  Would you recommend to drop any columns based on the number of nulls? (5 points)"
   ]
  },
  {
   "cell_type": "code",
   "execution_count": 7,
   "metadata": {
    "deletable": false,
    "nbgrader": {
     "checksum": "426b589a9d6457f38381eb1c77678d4f",
     "grade": true,
     "grade_id": "cell-b6fc3f7c906c95a2",
     "locked": false,
     "points": 0,
     "schema_version": 1,
     "solution": true
    }
   },
   "outputs": [
    {
     "name": "stdout",
     "output_type": "stream",
     "text": [
      "Columns with the most non-null values:\n",
      "cmte_id              1125659\n",
      "cand_id              1125659\n",
      "tran_id              1125659\n",
      "file_num             1125659\n",
      "form_tp              1125659\n",
      "contb_receipt_dt     1125659\n",
      "contb_receipt_amt    1125659\n",
      "contbr_st            1125659\n",
      "contbr_nm            1125659\n",
      "cand_nm              1125659\n",
      "contbr_city          1125633\n",
      "contbr_zip           1125564\n",
      "election_tp          1124234\n",
      "contbr_occupation    1115260\n",
      "contbr_employer       967757\n",
      "memo_text             501148\n",
      "memo_cd               144268\n",
      "receipt_desc           15045\n",
      "dtype: int64\n"
     ]
    },
    {
     "data": {
      "text/plain": [
       "cmte_id                    0\n",
       "cand_id                    0\n",
       "cand_nm                    0\n",
       "contbr_nm                  0\n",
       "contbr_city               26\n",
       "contbr_st                  0\n",
       "contbr_zip                95\n",
       "contbr_employer       157902\n",
       "contbr_occupation      10399\n",
       "contb_receipt_amt          0\n",
       "contb_receipt_dt           0\n",
       "receipt_desc         1110614\n",
       "memo_cd               981391\n",
       "memo_text             624511\n",
       "form_tp                    0\n",
       "file_num                   0\n",
       "tran_id                    0\n",
       "election_tp             1425\n",
       "dtype: int64"
      ]
     },
     "execution_count": 7,
     "metadata": {},
     "output_type": "execute_result"
    }
   ],
   "source": [
    "# 1f YOUR CODE HERE\n",
    "# Get the non-null value counts for each column\n",
    "non_null_counts = contrib.notnull().sum()\n",
    "\n",
    "# Sort the non-null value counts in descending order\n",
    "non_null_counts_sorted = non_null_counts.sort_values(ascending=False)\n",
    "\n",
    "# Print the columns with the most non-null values\n",
    "print(\"Columns with the most non-null values:\")\n",
    "print(non_null_counts_sorted)\n",
    "\n",
    "#all nulls\n",
    "contrib.isnull().sum()"
   ]
  },
  {
   "cell_type": "markdown",
   "metadata": {
    "collapsed": true,
    "deletable": false,
    "nbgrader": {
     "checksum": "81ebf2a2f96961b4464f6c35d2143427",
     "grade": true,
     "grade_id": "cell-bea2cf7a6fff8565",
     "locked": false,
     "points": 0,
     "schema_version": 1,
     "solution": true
    }
   },
   "source": [
    "- **1f answer here:** \n",
    "\n",
    "['cmte_id', 'cand_id', 'cand_nm', 'file_num', 'tran_id','contbr_nm', 'contb_receipt_amt', 'contb_receipt_dt','contbr_st', \n",
    "'contbr_city'] have the most non-null values. \n",
    "\n",
    "Given the basis of the data question, I would recommend dropping ['contbr_employer','receipt_desc','memo_cd','memo_text'] not only due to the large number of null values but also due to our main question of interest which is to find which zip codes had the highest count and contribution amounts. "
   ]
  },
  {
   "cell_type": "markdown",
   "metadata": {},
   "source": [
    "**1g.** A column we know that we want to use is the cand_nm column.  From the documentation each candidate is a unique candidate id also. Check data quality of `cand_id` column to see if it matches `cand_nm` column. Specifically check to ensure our targetted candidate 'Bernard Sanders' always has the same cand_id throughout. Any issues with `cand_nm` matching `cand_id`? (5 points)"
   ]
  },
  {
   "cell_type": "code",
   "execution_count": 8,
   "metadata": {},
   "outputs": [
    {
     "name": "stdout",
     "output_type": "stream",
     "text": [
      "Candidate: Bush, Jeb, Candidate ID: P60008059\n",
      "Candidate: Carson, Benjamin S., Candidate ID: P60005915\n",
      "Candidate: Christie, Christopher J., Candidate ID: P60008521\n",
      "Candidate: Clinton, Hillary Rodham, Candidate ID: P00003392\n",
      "Candidate: Cruz, Rafael Edward 'Ted', Candidate ID: P60006111\n",
      "Candidate: Fiorina, Carly, Candidate ID: P60007242\n",
      "Candidate: Gilmore, James S III, Candidate ID: P80003379\n",
      "Candidate: Graham, Lindsey O., Candidate ID: P60007697\n",
      "Candidate: Huckabee, Mike, Candidate ID: P80003478\n",
      "Candidate: Jindal, Bobby, Candidate ID: P60008398\n",
      "Candidate: Johnson, Gary, Candidate ID: P20002671\n",
      "Candidate: Kasich, John R., Candidate ID: P60003670\n",
      "Candidate: Lessig, Lawrence, Candidate ID: P60009685\n",
      "Candidate: McMullin, Evan, Candidate ID: P60022654\n",
      "Candidate: O'Malley, Martin Joseph, Candidate ID: P60007671\n",
      "Candidate: Pataki, George E., Candidate ID: P60007572\n",
      "Candidate: Paul, Rand, Candidate ID: P40003576\n",
      "Candidate: Perry, James R. (Rick), Candidate ID: P20003281\n",
      "Candidate: Rubio, Marco, Candidate ID: P60006723\n",
      "Candidate: Sanders, Bernard, Candidate ID: P60007168\n",
      "Candidate: Santorum, Richard J., Candidate ID: P20002721\n",
      "Candidate: Stein, Jill, Candidate ID: P20003984\n",
      "Candidate: Trump, Donald J., Candidate ID: P80001571\n",
      "Candidate: Walker, Scott, Candidate ID: P60006046\n",
      "Candidate: Webb, James Henry Jr., Candidate ID: P60008885\n",
      "\n",
      "Data quality check passed: 'Bernard Sanders' has a consistent 'cand_id'.\n",
      "Unique cand_id for 'Bernard Sanders': P60007168\n"
     ]
    }
   ],
   "source": [
    "# 1g YOUR CODE HERE\n",
    "\n",
    "#CHECKING ALL CANDIDATE IDS\n",
    "# Group the data by candidate name and candidate ID\n",
    "candidate_groups = contrib.groupby(['cand_nm', 'cand_id'])\n",
    "\n",
    "# List the unique candidate IDs for each candidate name\n",
    "unique_candidates = candidate_groups.size().reset_index(name='count')\n",
    "\n",
    "# Filter candidates with multiple candidate IDs\n",
    "candidates_with_multiple_ids = unique_candidates[unique_candidates['count'] > 1]\n",
    "\n",
    "# Print the candidate names and their associated candidate IDs\n",
    "for index, row in candidates_with_multiple_ids.iterrows():\n",
    "    candidate_name = row['cand_nm']\n",
    "    candidate_id = row['cand_id']\n",
    "    print(f\"Candidate: {candidate_name}, Candidate ID: {candidate_id}\")\n",
    "\n",
    "#CHECKING FOR BERNARD SANDERS\n",
    "# Step 1: Filter the DataFrame to include only rows where 'cand_nm' is 'Bernard Sanders'\n",
    "sanders_contributions = contrib[contrib['cand_nm'] == 'Sanders, Bernard']\n",
    "\n",
    "# Step 2: Check unique 'cand_id' values for 'Bernard Sanders'\n",
    "unique_cand_ids = sanders_contributions['cand_id'].unique()\n",
    "\n",
    "# Step 3: Check if there are multiple 'cand_id' values associated with 'Bernard Sanders'\n",
    "if len(unique_cand_ids) == 1:\n",
    "    print(\"\\nData quality check passed: 'Bernard Sanders' has a consistent 'cand_id'.\")\n",
    "    print(\"Unique cand_id for 'Bernard Sanders':\", unique_cand_ids[0])\n",
    "else:\n",
    "    print(\"\\nData quality check failed: 'Bernard Sanders' has multiple cand_ids.\")\n",
    "    print(\"Unique cand_ids for 'Bernard Sanders':\", unique_cand_ids)\n"
   ]
  },
  {
   "cell_type": "markdown",
   "metadata": {},
   "source": [
    "- **1g answer here:** \n",
    "\n",
    "Each candidate has a unique `cand_id` and Bernard Sanders has a unique `cand_id`  of P60007168"
   ]
  },
  {
   "cell_type": "markdown",
   "metadata": {},
   "source": [
    "**1h.** Another area to check is to make sure all of the records are from California. Check the `contbr_st` column - are there any records outside of California based on `contbr_st`? (5 points)"
   ]
  },
  {
   "cell_type": "code",
   "execution_count": 9,
   "metadata": {},
   "outputs": [
    {
     "name": "stdout",
     "output_type": "stream",
     "text": [
      "Data quality check passed: All records are from California.\n"
     ]
    }
   ],
   "source": [
    "# 1h YOUR CODE HERE\n",
    "# Check unique values in the 'contbr_st' column\n",
    "unique_states = contrib['contbr_st'].unique()\n",
    "# Check if 'CA' is the only unique value (indicating all records are from California)\n",
    "if len(unique_states) == 1 and unique_states[0] == 'CA':\n",
    "    print(\"Data quality check passed: All records are from California.\")\n",
    "else:\n",
    "    print(\"Data quality check failed: Records are not exclusively from California.\")\n",
    "    print(\"Unique states in the dataset:\", unique_states)"
   ]
  },
  {
   "cell_type": "markdown",
   "metadata": {},
   "source": [
    "- **1h answer here:** \n",
    "\n",
    "Data quality check passed: All records are from California."
   ]
  },
  {
   "cell_type": "markdown",
   "metadata": {},
   "source": [
    "**1i.** The next column to check for the analysis is the `tran_id` column. This column could be the primary key so look for duplicates. How many duplicate entries are there? Any pattern for why are there duplicate entries? (5 points)"
   ]
  },
  {
   "cell_type": "code",
   "execution_count": 10,
   "metadata": {},
   "outputs": [
    {
     "name": "stdout",
     "output_type": "stream",
     "text": [
      "Number of duplicate entries in the 'tran_id' column: 3454\n",
      "           cmte_id    cand_id                    cand_nm  \\\n",
      "57       C00575795  P00003392    Clinton, Hillary Rodham   \n",
      "90       C00575795  P00003392    Clinton, Hillary Rodham   \n",
      "91       C00575795  P00003392    Clinton, Hillary Rodham   \n",
      "174      C00574624  P60006111  Cruz, Rafael Edward 'Ted'   \n",
      "175      C00574624  P60006111  Cruz, Rafael Edward 'Ted'   \n",
      "...            ...        ...                        ...   \n",
      "1125589  C00573519  P60005915        Carson, Benjamin S.   \n",
      "1125596  C00573519  P60005915        Carson, Benjamin S.   \n",
      "1125597  C00573519  P60005915        Carson, Benjamin S.   \n",
      "1125598  C00573519  P60005915        Carson, Benjamin S.   \n",
      "1125614  C00573519  P60005915        Carson, Benjamin S.   \n",
      "\n",
      "                     contbr_nm    contbr_city contbr_st     contbr_zip  \\\n",
      "57             SANMUKH, BHAKTA      SAN DIMAS        CA 917,733,736.00   \n",
      "90             ROBERT, MONKMAN        FREMONT        CA 945,365,810.00   \n",
      "91             DOROTHY, FIEGER  SPRING VALLEY        CA 919,775,125.00   \n",
      "174            MORENO, KENNETH       OAK VIEW        CA 930,229,619.00   \n",
      "175      NOWAKOWSKI, HENRY MR.        ANAHEIM        CA 928,065,615.00   \n",
      "...                        ...            ...       ...            ...   \n",
      "1125589          LONGWELL, SAM   CAMERON PARK        CA      956829011   \n",
      "1125596          MANN, VIVIANE  MONARCH BEACH        CA      926293467   \n",
      "1125597          MANN, VIVIANE  MONARCH BEACH        CA      926293467   \n",
      "1125598          MANN, VIVIANE  MONARCH BEACH        CA      926293467   \n",
      "1125614        HANSEN, WILLIAM       GLENDALE        CA      912081507   \n",
      "\n",
      "        contbr_employer       contbr_occupation  contb_receipt_amt  \\\n",
      "57                  NaN                 RETIRED             151.00   \n",
      "90             ARM, INC       MARKETING MANAGER             300.00   \n",
      "91            U.S. NAVY                 RETIRED             100.00   \n",
      "174       SELF EMPLOYED  INDEPENDENT CONTRACTOR              35.00   \n",
      "175             RETIRED                 RETIRED               5.00   \n",
      "...                 ...                     ...                ...   \n",
      "1125589         RETIRED                 RETIRED              50.00   \n",
      "1125596   SELF EMPLOYED    REAL ESTATE INVESTOR           1,000.00   \n",
      "1125597   SELF EMPLOYED    REAL ESTATE INVESTOR              25.00   \n",
      "1125598   SELF EMPLOYED    REAL ESTATE INVESTOR              50.00   \n",
      "1125614         RETIRED                 RETIRED              25.00   \n",
      "\n",
      "        contb_receipt_dt receipt_desc memo_cd             memo_text form_tp  \\\n",
      "57            2016-03-31          NaN       X  *BEST EFFORTS UPDATE   SA17A   \n",
      "90            2016-03-31          NaN       X  *BEST EFFORTS UPDATE   SA17A   \n",
      "91            2016-03-31          NaN       X  *BEST EFFORTS UPDATE   SA17A   \n",
      "174           2016-04-12          NaN     NaN                   NaN   SA17A   \n",
      "175           2016-04-06          NaN     NaN                   NaN   SA17A   \n",
      "...                  ...          ...     ...                   ...     ...   \n",
      "1125589       2016-01-06          NaN     NaN                   NaN   SA17A   \n",
      "1125596       2016-01-02          NaN     NaN                   NaN   SA17A   \n",
      "1125597       2016-01-08          NaN     NaN                   NaN   SA17A   \n",
      "1125598       2016-01-14          NaN     NaN                   NaN   SA17A   \n",
      "1125614       2016-01-19          NaN     NaN                   NaN   SA17A   \n",
      "\n",
      "         file_num        tran_id election_tp  \n",
      "57        1091718       C3913687       P2016  \n",
      "90        1091718       C3925472       P2016  \n",
      "91        1091718       C3937968       P2016  \n",
      "174       1077664  SA17A.1645838       P2016  \n",
      "175       1077664  SA17A.1627230       P2016  \n",
      "...           ...            ...         ...  \n",
      "1125589   1073637   SA17.1121072       P2016  \n",
      "1125596   1073637   SA17.1112655       P2016  \n",
      "1125597   1073637   SA17.1126164       P2016  \n",
      "1125598   1073637   SA17.1137886       P2016  \n",
      "1125614   1073637   SA17.1153096       P2016  \n",
      "\n",
      "[6873 rows x 18 columns]\n"
     ]
    }
   ],
   "source": [
    "# 1i YOUR CODE HERE\n",
    "# Check for duplicates in the 'tran_id' column\n",
    "duplicates = contrib[contrib.duplicated(subset='tran_id', keep=False)]\n",
    "\n",
    "# Count the number of duplicate entries in the 'tran_id' column\n",
    "duplicate_counts = contrib['tran_id'].duplicated().sum()\n",
    "\n",
    "print(\"Number of duplicate entries in the 'tran_id' column:\", duplicate_counts)\n",
    "\n",
    "# Print the DataFrame containing duplicate entries\n",
    "print(duplicates)\n",
    "\n",
    "#save duplicates to file for further inspection\n",
    "#duplicates.to_csv('duplicate_entries.csv', index=False)\n"
   ]
  },
  {
   "cell_type": "markdown",
   "metadata": {},
   "source": [
    "- **1i answer here:** \n",
    "\n",
    "There are 3454 duplicate entries. Upon further inspection, the entries with duplicated `train_id` were made by the same people, on the same day and to the same candidates, same city and all. What seemed to cause duplicate `train_id` comes from the `contbr_employer`, `contbr_occupation`columns wirh the second duplicate contribution described as 'INFORMATION REQUESTED', with the `memo_text` being \"* HILLARY VICTORY FUND\""
   ]
  },
  {
   "cell_type": "markdown",
   "metadata": {},
   "source": [
    "**1j.** Another column to check is the `contb_receipt_amt` that shows the donation amounts. How many negative donations are included? What do negative donations mean? Please show at least pull a few rows to look at the records with negative donations. Do these records match with the expectation of why a negative donation would happen? (5 points)"
   ]
  },
  {
   "cell_type": "code",
   "execution_count": 11,
   "metadata": {},
   "outputs": [
    {
     "name": "stdout",
     "output_type": "stream",
     "text": [
      "Number of negative donations: 11896\n",
      "\n",
      "Sample of records with negative donations:\n",
      "       cmte_id    cand_id                    cand_nm           contbr_nm  \\\n",
      "19   C00574624  P60006111  Cruz, Rafael Edward 'Ted'    JOLLIFF, RICHARD   \n",
      "23   C00574624  P60006111  Cruz, Rafael Edward 'Ted'    JOLLIFF, RICHARD   \n",
      "81   C00574624  P60006111  Cruz, Rafael Edward 'Ted'    JOLLIFF, RICHARD   \n",
      "190  C00574624  P60006111  Cruz, Rafael Edward 'Ted'    NOWELL, DIANA L.   \n",
      "213  C00574624  P60006111  Cruz, Rafael Edward 'Ted'  LICHTY, ANDREW MR.   \n",
      "\n",
      "                contbr_city contbr_st     contbr_zip  \\\n",
      "19                    CHICO        CA 959,289,507.00   \n",
      "23                    CHICO        CA 959,289,507.00   \n",
      "81                    CHICO        CA 959,289,507.00   \n",
      "190  RANCHO SANTA MARGARITA        CA 926,884,928.00   \n",
      "213               SAN DIEGO        CA 921,096,720.00   \n",
      "\n",
      "                        contbr_employer     contbr_occupation  \\\n",
      "19                        SELF EMPLOYED               RANCHER   \n",
      "23                        SELF EMPLOYED               RANCHER   \n",
      "81                        SELF EMPLOYED               RANCHER   \n",
      "190  CAPISTRAND UNIFIED SCHOOL DISTRICT  LIBRARIAN TECHNICIAN   \n",
      "213                       SELF EMPLOYED           REAL ESTATE   \n",
      "\n",
      "     contb_receipt_amt contb_receipt_dt              receipt_desc memo_cd  \\\n",
      "19              -25.00       2016-04-29  REDESIGNATION TO GENERAL       X   \n",
      "23             -150.00       2016-04-29  REDESIGNATION TO GENERAL       X   \n",
      "81              -60.00       2016-04-14  REDESIGNATION TO GENERAL       X   \n",
      "190            -100.00       2016-04-11  REDESIGNATION TO GENERAL       X   \n",
      "213             -25.00       2016-04-30  REDESIGNATION TO GENERAL       X   \n",
      "\n",
      "                    memo_text form_tp  file_num         tran_id election_tp  \n",
      "19   REDESIGNATION TO GENERAL   SA17A   1077664  SA17A.1826482B       P2016  \n",
      "23   REDESIGNATION TO GENERAL   SA17A   1077664  SA17A.1826483B       P2016  \n",
      "81   REDESIGNATION TO GENERAL   SA17A   1077664   SA17A.1827494       P2016  \n",
      "190  REDESIGNATION TO GENERAL   SA17A   1077664  SA17A.1639830B       P2016  \n",
      "213  REDESIGNATION TO GENERAL   SA17A   1077664  SA17A.1826888B       P2016  \n"
     ]
    }
   ],
   "source": [
    "# 1j YOUR CODE HERE\n",
    "# Filter the DataFrame to include only rows with negative donation amounts\n",
    "negative_donations = contrib[contrib['contb_receipt_amt'] < 0]\n",
    "\n",
    "# Count the number of negative donations\n",
    "num_negative_donations = negative_donations.shape[0]\n",
    "print(\"Number of negative donations:\", num_negative_donations)\n",
    "\n",
    "# Show a few rows of negative donation records\n",
    "if num_negative_donations > 0:\n",
    "    print(\"\\nSample of records with negative donations:\")\n",
    "    print(negative_donations.head())\n",
    "\n",
    "#negative_donations.to_csv('negative_entries.csv', index=False)"
   ]
  },
  {
   "cell_type": "markdown",
   "metadata": {},
   "source": [
    "- **1j answer here:**\n",
    "\n",
    "There are 11,896 negative donations. From the `receipt_desc` and `memo_text` the negative contributions seem to be from either refunds, REDESIGNATION TO GENERAL or PRESIDENTIAL or REATTRIBUTION TO SPOUSE or another candidate. The number of records match the with the expectation of why a negative donation would happen."
   ]
  },
  {
   "cell_type": "markdown",
   "metadata": {},
   "source": [
    "**1k.** One more column to look at is the date of donation column. Are there any dates outside of the primary period (defined as 1 Jan 2014 to 7 June 2016)? Are the dates well-formatted for our analysis? (5 points)"
   ]
  },
  {
   "cell_type": "code",
   "execution_count": 12,
   "metadata": {},
   "outputs": [
    {
     "name": "stdout",
     "output_type": "stream",
     "text": [
      "Number of donations outside the primary period: 451372\n",
      "Dates are well-formatted for analysis.\n",
      "\n",
      "Sample of records with dates outside the primary period:\n",
      "         cmte_id    cand_id                    cand_nm          contbr_nm  \\\n",
      "9932   C00458844  P60006723               Rubio, Marco  WHEELER, MARY MS.   \n",
      "9994   C00458844  P60006723               Rubio, Marco  WHEELER, MARY MS.   \n",
      "14673  C00574624  P60006111  Cruz, Rafael Edward 'Ted'    RANDALL, DICK J   \n",
      "14682  C00605568  P20002671              Johnson, Gary          BOAL, ROB   \n",
      "14697  C00605568  P20002671              Johnson, Gary        LEE, JASCHA   \n",
      "\n",
      "      contbr_city contbr_st     contbr_zip contbr_employer  contbr_occupation  \\\n",
      "9932     ATHERTON        CA 940,273,415.00   SELF-EMPLOYED  INTERIOR DESIGNER   \n",
      "9994     ATHERTON        CA 940,273,415.00   SELF-EMPLOYED  INTERIOR DESIGNER   \n",
      "14673   CUPERTINO        CA      95,014.00             NaN                NaN   \n",
      "14682    OAK PARK        CA      91,377.00         VENDAVO           ENGINEER   \n",
      "14697  SANTA CRUZ        CA      95,065.00           YAHOO            S/W ENG   \n",
      "\n",
      "       contb_receipt_amt contb_receipt_dt receipt_desc memo_cd  \\\n",
      "9932              -20.00       2013-11-05          NaN       X   \n",
      "9994               20.00       2013-11-05          NaN       X   \n",
      "14673          -5,400.00       2016-06-30       Refund     NaN   \n",
      "14682              30.00       2016-07-20          NaN     NaN   \n",
      "14697              88.45       2016-07-14          NaN     NaN   \n",
      "\n",
      "                         memo_text form_tp  file_num             tran_id  \\\n",
      "9932   TRANSFER FROM RUBIO VICTORY    SA18   1029436  SA18.631526.2.0615   \n",
      "9994   TRANSFER FROM RUBIO VICTORY    SA18   1029436  SA18.631526.3.0615   \n",
      "14673                          NaN   SB28A   1096256         SB28A.90932   \n",
      "14682                          NaN   SA17A   1096305         SA17A.50793   \n",
      "14697                          NaN   SA17A   1096305         SA17A.51414   \n",
      "\n",
      "      election_tp  \n",
      "9932        P2016  \n",
      "9994        G2016  \n",
      "14673         NaN  \n",
      "14682       G2016  \n",
      "14697       G2016  \n"
     ]
    }
   ],
   "source": [
    "# 1k YOUR CODE HERE\n",
    "\n",
    "# Define the primary period\n",
    "primary_period_start = pd.to_datetime('2014-01-01')\n",
    "primary_period_end = pd.to_datetime('2016-06-07')\n",
    "\n",
    "# Filter the DataFrame to include only dates outside the primary period\n",
    "outside_primary_period = contrib[(contrib['contb_receipt_dt'] < primary_period_start) | \n",
    "                                 (contrib['contb_receipt_dt'] > primary_period_end)]\n",
    "\n",
    "# Count the number of dates outside the primary period\n",
    "num_outside_primary_period = outside_primary_period.shape[0]\n",
    "\n",
    "print(\"Number of donations outside the primary period:\", num_outside_primary_period)\n",
    "\n",
    "# Check the formatting of dates\n",
    "date_format_correct = contrib['contb_receipt_dt'].notnull().all()\n",
    "\n",
    "if date_format_correct:\n",
    "    print(\"Dates are well-formatted for analysis.\")\n",
    "else:\n",
    "    print(\"There are formatting issues with some dates.\")\n",
    "\n",
    "# Show a sample of records with dates outside the primary period\n",
    "if num_outside_primary_period > 0:\n",
    "    print(\"\\nSample of records with dates outside the primary period:\")\n",
    "    print(outside_primary_period.head())"
   ]
  },
  {
   "cell_type": "markdown",
   "metadata": {},
   "source": [
    "- **1k answer here:**\n",
    "\n",
    "Number of donations outside the primary period are 451372 and the Dates are well-formatted for analysis."
   ]
  },
  {
   "cell_type": "markdown",
   "metadata": {
    "collapsed": true,
    "deletable": false,
    "nbgrader": {
     "checksum": "bffd2778d22127102347386bfb6f5b20",
     "grade": true,
     "grade_id": "cell-4ad1da24176f0450",
     "locked": false,
     "points": 0,
     "schema_version": 1,
     "solution": true
    }
   },
   "source": [
    "**1l.** Finally, answer the initial questions in the cells below (5 points)"
   ]
  },
  {
   "cell_type": "markdown",
   "metadata": {},
   "source": [
    "**1l.1** Do we have the correct # of columns and rows.\n",
    "\n",
    "- **1l.1 answer here:**\n",
    "\n",
    "Yes. We have 18 columns and 1125659 rows."
   ]
  },
  {
   "cell_type": "markdown",
   "metadata": {},
   "source": [
    "**1l.2** Do the records contain data for the questions we want to answer?\n",
    "\n",
    "- **1l.2 answer here:**\n",
    "\n",
    "Yes. The data contains information to answer what zipcodes had the highest contribution count and amount and we can extract what days of the month do most people donate from the 'contb_receipt_dt' column"
   ]
  },
  {
   "cell_type": "markdown",
   "metadata": {},
   "source": [
    "**1l.3** What columns are important?\n",
    "\n",
    "- **1l.3 answer here:** \n",
    "\n",
    "`cmte_id`,`cand_id`, `cand_nm`, `contbr_city`,`contbr_st`,`contbr_zip`,`contb_receipt_amt`, `contb_receipt_dt` ,`form_tp`,`file_num`,`tran_id `, `election_tp`"
   ]
  },
  {
   "cell_type": "markdown",
   "metadata": {},
   "source": [
    "**1l.4** What columns can be dropped?\n",
    "\n",
    "- **1l.4 answer here:** \n",
    "\n",
    "`contbr_nm`, `contbr_employer`, `contbr_occupation`, `receipt_desc`, `memo_cd`, `memo_text`"
   ]
  },
  {
   "cell_type": "markdown",
   "metadata": {},
   "source": [
    "**1l.5** What are the data problems?\n",
    "\n",
    "- **1l.5 answer here:**\n",
    "\n",
    "Potential data problems to consider:\n",
    "1. Missing or incomplete values in the relevant columns (`contb_city`, `contbr_zip`).\n",
    "2. Data entry errors or inconsistencies in the `contbr_zip` column (e.g., invalid or non-standard zip codes).\n",
    "3. Date formatting issues in the `contb_receipt_dt` column.\n",
    "4. Duplicates in the data (e.g., duplicate transactions or contributions).\n",
    "5. Outliers or unusual values in the `contb_receipt_amt` column.\n",
    "6. Inconsistent or unexpected data patterns."
   ]
  },
  {
   "cell_type": "markdown",
   "metadata": {},
   "source": [
    "**1l.6** List any assumptions so far:\n",
    "\n",
    "- **1l.6 answer here:**\n",
    "\n",
    "My assumptions are: \n",
    "\n",
    "that the provided dataset contains accurate and comprehensive information about contributions made during the 2016 primary election period.\n",
    "\n",
    "that the `contb_receipt_dt` column represents the actual date of contribution.\n",
    "\n",
    "that the `contb_receipt_amt` column represents the actual amount of contribution.\n",
    "\n",
    "that the `contbr_zip` column represents valid 5-digit zip codes.\n",
    "\n",
    "that there are no significant data quality issues that would severely impact our analysis. However, I acknowledge that further data exploration and cleaning may be necessary to address potential issues."
   ]
  },
  {
   "cell_type": "markdown",
   "metadata": {
    "collapsed": true,
    "deletable": false,
    "nbgrader": {
     "checksum": "14c2855e3d59f0da6b1afd5cf0da2da8",
     "grade": true,
     "grade_id": "cell-fd840cdd19d2bd2a",
     "locked": false,
     "points": 0,
     "schema_version": 1,
     "solution": true
    }
   },
   "source": [
    "***\n",
    "## 2. Data filtering and data quality fixes (30 points)\n",
    "\n",
    "Now that we have a basic understanding of the data, let's filter out the records we don't need and fix the data."
   ]
  },
  {
   "cell_type": "markdown",
   "metadata": {},
   "source": [
    "**2a.** From the dataset filter out (remove) any election_tp not in the primary election. Print/show the shape of the dataframe after the filtering is complete. (5 points)"
   ]
  },
  {
   "cell_type": "code",
   "execution_count": 13,
   "metadata": {
    "deletable": false,
    "nbgrader": {
     "checksum": "43ce3d15cee7ab73f53fd8f054c9826c",
     "grade": true,
     "grade_id": "cell-dce8d3107c1463ca",
     "locked": false,
     "points": 0,
     "schema_version": 1,
     "solution": true
    }
   },
   "outputs": [
    {
     "name": "stdout",
     "output_type": "stream",
     "text": [
      "Shape of the dataframe after filtering: (810481, 18)\n"
     ]
    }
   ],
   "source": [
    "# 2a YOUR CODE HERE\n",
    "\n",
    "# Filter out rows with election_tp not in the primary election\n",
    "contrib = contrib[contrib['election_tp'] == 'P2016']\n",
    "\n",
    "# Print the shape of the dataframe after filtering\n",
    "print(\"Shape of the dataframe after filtering:\", contrib.shape)"
   ]
  },
  {
   "cell_type": "markdown",
   "metadata": {
    "deletable": false,
    "nbgrader": {
     "checksum": "a5f4e6df0f32e24c492a9589ec87fef6",
     "grade": true,
     "grade_id": "cell-9e3f68b21dac8e10",
     "locked": false,
     "points": 0,
     "schema_version": 1,
     "solution": true
    }
   },
   "source": [
    "**2b.** From the dataset filter out (remove) any candidate that is not Bernie Sanders. Print/show the shape of the dataframe after the filtering is complete. (5 points)"
   ]
  },
  {
   "cell_type": "code",
   "execution_count": 14,
   "metadata": {
    "deletable": false,
    "nbgrader": {
     "checksum": "4f1a9e7ee0ded9d2b5af5777cb85e505",
     "grade": true,
     "grade_id": "cell-c14fbed9d72d54e3",
     "locked": false,
     "points": 0,
     "schema_version": 1,
     "solution": true
    }
   },
   "outputs": [
    {
     "name": "stdout",
     "output_type": "stream",
     "text": [
      "Shape of the dataframe after filtering: (407171, 18)\n"
     ]
    }
   ],
   "source": [
    "# 2b YOUR CODE HERE\n",
    "\n",
    "# Filter out rows where the candidate is not Bernie Sanders\n",
    "contrib = contrib[contrib['cand_nm'] == 'Sanders, Bernard']\n",
    "\n",
    "# Print the shape of the dataframe after filtering\n",
    "print(\"Shape of the dataframe after filtering:\", contrib.shape)"
   ]
  },
  {
   "cell_type": "markdown",
   "metadata": {},
   "source": [
    "**2c.** The `contbr_zip` column is not formatted well for our analysis. Make a new zipcode column that is the five-digit zipcodes. Filter out any records outside of California based on the zipcode. Print/show the shape of the dataframe after the filtering is complete. (10 points).\n",
    "\n",
    "- You will have to research what the valid 5-digit zipcodes for California are!"
   ]
  },
  {
   "cell_type": "code",
   "execution_count": 15,
   "metadata": {},
   "outputs": [
    {
     "name": "stdout",
     "output_type": "stream",
     "text": [
      "Shape of the dataframe after filtering: (407161, 19)\n"
     ]
    }
   ],
   "source": [
    "# 2c YOUR CODE HERE\n",
    "# Pad shorter values with zeros and truncate longer values to 5 digits\n",
    "contrib['zipcode'] = contrib['contbr_zip'].astype(str).str.ljust(5, '0').str[:5]\n",
    "\n",
    "# Filter out records with zipcodes outside of California\n",
    "contrib = contrib[contrib['zipcode'].str.startswith('9')]\n",
    "\n",
    "# Print the shape of the dataframe after filtering\n",
    "print(\"Shape of the dataframe after filtering:\", contrib.shape)"
   ]
  },
  {
   "cell_type": "markdown",
   "metadata": {},
   "source": [
    "**2d.** The receipt amount column has negative donations. After talking with your team, a decision was made that the best course of action is to remove these negative values so that the donation count and amount is more accurate. Print/show the shape of the dataframe after the filtering is complete. (5 points)"
   ]
  },
  {
   "cell_type": "code",
   "execution_count": 16,
   "metadata": {},
   "outputs": [
    {
     "name": "stdout",
     "output_type": "stream",
     "text": [
      "Shape of the dataframe after filtering: (404073, 19)\n"
     ]
    }
   ],
   "source": [
    "# 2d YOUR CODE HERE\n",
    "\n",
    "# Filter out rows with negative donation amounts\n",
    "contrib = contrib[contrib['contb_receipt_amt'] >= 0]\n",
    "\n",
    "# Print the shape of the dataframe after filtering\n",
    "print(\"Shape of the dataframe after filtering:\", contrib.shape)"
   ]
  },
  {
   "cell_type": "markdown",
   "metadata": {},
   "source": [
    "**2e.** From the dataset drop any columns that won't be used in the analysis. Print/show the shape of the dataframe after the dropping is complete. What columns did you drop and why? (5 points)"
   ]
  },
  {
   "cell_type": "code",
   "execution_count": 17,
   "metadata": {},
   "outputs": [
    {
     "name": "stdout",
     "output_type": "stream",
     "text": [
      "Shape of the dataframe after dropping columns: (404073, 3)\n"
     ]
    }
   ],
   "source": [
    "# 2e YOUR CODE HERE\n",
    "columns_to_drop = ['cmte_id','cand_id', 'cand_nm','contbr_nm', 'contbr_city', 'contbr_st','contbr_zip', 'contbr_employer', 'contbr_occupation', 'receipt_desc', 'memo_cd', \n",
    "                   'memo_text','form_tp','file_num', 'tran_id','election_tp']\n",
    "\n",
    "# Drop the columns\n",
    "contrib = contrib.drop(columns=columns_to_drop)\n",
    "\n",
    "# Print the shape of the dataframe after dropping columns\n",
    "print(\"Shape of the dataframe after dropping columns:\", contrib.shape)"
   ]
  },
  {
   "cell_type": "markdown",
   "metadata": {},
   "source": [
    "- **2e answer here:**\n",
    "\n",
    "A total of 16 columns were dropped.\n",
    "\n",
    "Columns that were dropped: \n",
    "\n",
    "`cmte_id` There is only 1 unique committee ID for our focus candidate Bernard Sanders which is C00577130.\n",
    "\n",
    "`cand_id`, `cand_nm` only 1 unique `cand_id` (P60007168) and `cand_nm` (Sanders, Bernard)\n",
    "\n",
    "`contbr_nm`, `contbr_employer`, `contbr_occupation`, `receipt_desc`, `memo_cd`, `memo_text`, `form_tp`,`file_num`, `tran_id`, because they weren't neessary for the analysis. \n",
    "\n",
    "`contbr_city`,`contbr_st`,`contbr_zip` were also dropped because the new column `zipcode` encapsulates all of this information. \n",
    "\n",
    "`election_tp` Our data frame was filtered to only focus on the primary 2016. So this column wouldn't be used for our analysis further."
   ]
  },
  {
   "cell_type": "markdown",
   "metadata": {},
   "source": [
    "**2f.** List any assumptions that you made up to this point:"
   ]
  },
  {
   "cell_type": "markdown",
   "metadata": {},
   "source": [
    "- **2f answer here:**\n",
    "\n",
    "My assumptions are:\n",
    "\n",
    "1. that the date formatting, zipcode formatting, and other data formats are consistent and suitable for analysis.\n",
    "2. that filtering contributions based on California zipcodes will focus our analysis on contributions coming from California residents, aligning with the objectives of a California state-wide election campaign.\n",
    "3. that the cleaned data is accurate and free from significant errors or inconsistencies. So, we should now be able to answer the questions."
   ]
  },
  {
   "cell_type": "markdown",
   "metadata": {
    "deletable": false,
    "nbgrader": {
     "checksum": "6dc1481a003cdd752c5edfa9ac400879",
     "grade": true,
     "grade_id": "cell-f7a01ce9c5b10ac7",
     "locked": false,
     "points": 0,
     "schema_version": 1,
     "solution": true
    }
   },
   "source": [
    "***\n",
    "## 3. Answering the questions (20 points)\n",
    "\n",
    "Now that the data is cleaned and filterd - let's answer the two questions from your boss!"
   ]
  },
  {
   "cell_type": "markdown",
   "metadata": {
    "deletable": false,
    "nbgrader": {
     "checksum": "010f5de5f6af4c7f830d1cf7a81bbc0f",
     "grade": true,
     "grade_id": "cell-5617179133b06d0c",
     "locked": false,
     "points": 0,
     "schema_version": 1,
     "solution": true
    }
   },
   "source": [
    "**3a.** Which zipcode had the highest count of contributions and the most dollar amount? (10 points)"
   ]
  },
  {
   "cell_type": "code",
   "execution_count": 19,
   "metadata": {},
   "outputs": [
    {
     "name": "stdout",
     "output_type": "stream",
     "text": [
      "Zipcode with the highest count of contributions: 94110\n",
      "Count of contributions: 4046\n",
      "\n",
      "Zipcode with the highest total donation amount: 94110\n",
      "Total donation amount: $294,061.13\n"
     ]
    }
   ],
   "source": [
    "# 3a YOUR CODE HERE\n",
    "# Group the data by zipcode and calculate count and sum\n",
    "zipcode_stats = contrib.groupby('zipcode').agg({'contb_receipt_amt': ['count', 'sum']})\n",
    "\n",
    "# Rename columns for clarity\n",
    "zipcode_stats.columns = ['contribution_count', 'total_donation_amount']\n",
    "\n",
    "# Find the zipcode with the highest count of contributions\n",
    "zipcode_max_count = zipcode_stats['contribution_count'].idxmax()\n",
    "max_count = zipcode_stats.loc[zipcode_max_count, 'contribution_count']\n",
    "\n",
    "# Find the zipcode with the highest sum of donation amounts\n",
    "zipcode_max_amount = zipcode_stats['total_donation_amount'].idxmax()\n",
    "max_amount = zipcode_stats.loc[zipcode_max_amount, 'total_donation_amount']\n",
    "\n",
    "print(\"Zipcode with the highest count of contributions:\", zipcode_max_count)\n",
    "print(\"Count of contributions:\", max_count)\n",
    "\n",
    "print(\"\\nZipcode with the highest total donation amount:\", zipcode_max_amount)\n",
    "print(f\"Total donation amount: ${max_amount:,.2f}\")"
   ]
  },
  {
   "cell_type": "markdown",
   "metadata": {},
   "source": [
    "- **3a answer here:** \n",
    "\n",
    "Zipcode with the highest count of contributions and most dollar amount: 94110\n",
    "    \n",
    "    count of contribution for 94110: 4046\n",
    "    \n",
    "    dollar donation amount for 94110: $294,061.13"
   ]
  },
  {
   "cell_type": "markdown",
   "metadata": {},
   "source": [
    "**3b.** What day(s) of the month do most people donate? (10 points)"
   ]
  },
  {
   "cell_type": "code",
   "execution_count": 20,
   "metadata": {},
   "outputs": [
    {
     "name": "stdout",
     "output_type": "stream",
     "text": [
      "Day of the month with the most donations: 29\n",
      "\n",
      "Number of donations on the most active day: 23511\n",
      "\n",
      "Days with the top 5 donations\n",
      "29    23511\n",
      "30    22902\n",
      "31    19488\n",
      "14    17793\n",
      "8     16774\n",
      "Name: day_of_month, dtype: int64\n"
     ]
    }
   ],
   "source": [
    "# 3b YOUR CODE HERE\n",
    "# Convert 'contb_receipt_dt' to datetime format\n",
    "contrib['contb_receipt_dt'] = pd.to_datetime(contrib['contb_receipt_dt'])\n",
    "\n",
    "# Extract day of the month\n",
    "contrib['day_of_month'] = contrib['contb_receipt_dt'].dt.day\n",
    "\n",
    "# Count donations for each day of the month\n",
    "donation_counts_per_day = contrib['day_of_month'].value_counts()\n",
    "\n",
    "# Find the day(s) with the highest number of donations\n",
    "max_donation_day = donation_counts_per_day.idxmax()\n",
    "max_donation_count = donation_counts_per_day.max()\n",
    "\n",
    "print(\"Day of the month with the most donations:\", max_donation_day)\n",
    "print(\"\\nNumber of donations on the most active day:\", max_donation_count)\n",
    "\n",
    "print(\"\\nDays with the top 5 donations\")\n",
    "print(donation_counts_per_day.head())"
   ]
  },
  {
   "cell_type": "markdown",
   "metadata": {},
   "source": [
    "- **3b answer here:** \n",
    "\n",
    "Most people donate towards the end of the month with 29th being the day that receives the most donations. Followed by 30th and 31st.\n",
    "1. 29th > 23511 donations\n",
    "2. 30th > 22902 donations\n",
    "3. 31st > 19488 donations"
   ]
  },
  {
   "cell_type": "markdown",
   "metadata": {},
   "source": [
    "## If you have feedback for this homework, please submit it using the link below:\n",
    "\n",
    "http://goo.gl/forms/74yCiQTf6k"
   ]
  }
 ],
 "metadata": {
  "kernelspec": {
   "display_name": "Python 3",
   "language": "python",
   "name": "python3"
  },
  "language_info": {
   "codemirror_mode": {
    "name": "ipython",
    "version": 3
   },
   "file_extension": ".py",
   "mimetype": "text/x-python",
   "name": "python",
   "nbconvert_exporter": "python",
   "pygments_lexer": "ipython3",
   "version": "3.11.4"
  }
 },
 "nbformat": 4,
 "nbformat_minor": 2
}
